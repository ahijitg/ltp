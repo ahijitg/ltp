{
 "cells": [
  {
   "cell_type": "markdown",
   "metadata": {
    "nbpresent": {
     "id": "def5e723-88b5-4586-bccf-3df5e29dba79"
    }
   },
   "source": [
    "## Model Developed on 12/07/2016\n",
    "### Initial Model showing Respiration in Skeletal Muscle Cell and its Electrical Equivalent:"
   ]
  },
  {
   "cell_type": "markdown",
   "metadata": {
    "nbpresent": {
     "id": "b895fe83-b0b5-493e-8010-0b4bf2c23c2c"
    }
   },
   "source": [
    "<img src=\"schem.png\">"
   ]
  },
  {
   "cell_type": "code",
   "execution_count": 48,
   "metadata": {
    "collapsed": false,
    "nbpresent": {
     "id": "48140524-8b2e-44fd-868c-1382621f7c28"
    }
   },
   "outputs": [
    {
     "data": {
      "text/latex": [
       "$i_c = i_1 + i_2 -------(1)$\n",
       "$$  $$\n",
       "$i_1 = \\frac{(E_u-E_1)}{R_u} -------- (2)$\n",
       "$$  $$\n",
       "$E_1 = \\frac{1}{c}q_c$\n",
       "$$  $$\n",
       "$i_c = \\frac{E_u}{R_u} - \\frac{1}{R_uC}q_c-i_y(t)$\n",
       "$$  $$\n",
       "$\\frac{dq_c}{dt} = -\\frac{1}{R_uC}q + \\frac {E_u(t)}{R_u} - i_y(t)$\n",
       "$$  $$\n",
       "$q_c$ = Amount of Oxygen in Myoglobin... The one that we measure using the BSX Sensor.\n",
       "$$  $$\n",
       "$VO_2 = HR * SpO_2$"
      ],
      "text/plain": [
       "<IPython.core.display.Latex object>"
      ]
     },
     "metadata": {},
     "output_type": "display_data"
    }
   ],
   "source": [
    "%%latex\n",
    "$i_c = i_1 + i_2 -------(1)$\n",
    "$$  $$\n",
    "$i_1 = \\frac{(E_u-E_1)}{R_u} -------- (2)$\n",
    "$$  $$\n",
    "$E_1 = \\frac{1}{c}q_c$\n",
    "$$  $$\n",
    "$i_c = \\frac{E_u}{R_u} - \\frac{1}{R_uC}q_c-i_y(t)$\n",
    "$$  $$\n",
    "$\\frac{dq_c}{dt} = -\\frac{1}{R_uC}q + \\frac {E_u(t)}{R_u} - i_y(t)$\n",
    "$$  $$\n",
    "$q_c$ = Amount of Oxygen in Myoglobin... The one that we measure using the BSX Sensor.\n",
    "$$  $$\n",
    "$VO_2 = HR * SpO_2$"
   ]
  },
  {
   "cell_type": "code",
   "execution_count": 52,
   "metadata": {
    "collapsed": false,
    "nbpresent": {
     "id": "3d246514-b977-4882-82f5-a9deba12067f"
    }
   },
   "outputs": [
    {
     "data": {
      "text/latex": [
       "Why is  $E_u = O_h#C_{Hemoglobin}$?\n",
       "$$ $$\n",
       "Is $C_{Hemoglobin}$ actually the Pulse Oximeter reading?\n",
       "$$ $$\n",
       "We know that $C=\\frac{q_c}{V}$.\n",
       "Why is $C =\\frac{q_c}{C_{Hemoglobin}}$?"
      ],
      "text/plain": [
       "<IPython.core.display.Latex object>"
      ]
     },
     "metadata": {},
     "output_type": "display_data"
    }
   ],
   "source": [
    "%%latex\n",
    "Why is  $E_u = O_h#C_{Hemoglobin}$?\n",
    "$$ $$\n",
    "Is $C_{Hemoglobin}$ actually the Pulse Oximeter reading?\n",
    "$$ $$\n",
    "We know that $C=\\frac{q_c}{V}$.\n",
    "Why is $C =\\frac{q_c}{C_{Hemoglobin}}$?"
   ]
  },
  {
   "cell_type": "markdown",
   "metadata": {},
   "source": [
    "%%latex\n",
    "$M_m$ = Myoglobin quantity\n",
    "$$ $$\n",
    "$M_o$ = Oxygen quantity bound to Myoglobin\n",
    "$$ $$\n",
    "Oxygen in Myoglobin = $O_m = \\frac{M_o}{M_m}$\n"
   ]
  },
  {
   "cell_type": "markdown",
   "metadata": {},
   "source": [
    "# New Model Developed on 12/09/2016:"
   ]
  },
  {
   "cell_type": "markdown",
   "metadata": {},
   "source": [
    "<img src=\"schem_a.png\">"
   ]
  },
  {
   "cell_type": "markdown",
   "metadata": {},
   "source": [
    "### Description: \n",
    "\n",
    "The oxygen transport from Hemoglobin to myoglobin and sarcoplasm is modeled as a bi-compartmental structure. The following equations describe the transport behavior mathematically."
   ]
  },
  {
   "cell_type": "code",
   "execution_count": 157,
   "metadata": {
    "collapsed": false
   },
   "outputs": [
    {
     "data": {
      "text/latex": [
       "Oxygen concentration in Myoglobin is $O_{Myo} = \\frac {M_{O2-Myo}}{M_{Myo}}$ $$ $$\n",
       "Oxygen concentration in hemoglobin is $O_{Hb} = \\frac {M_{O2-Hb}}{M_{Hb}}$ $$ $$\n",
       "Flux of Oxygen from Hemoglobin to Myoglobin is $f_i = D * [O_{Hb} - O_{Myo}]$ $$ $$\n",
       "Where, D is a conductance equivalent for fluid dynamics and is equal to $ D = \\frac {k}{\\mu}$ \n",
       "where k = permeability and $\\mu = viscocity $ $$ $$\n",
       "$\\frac{dM_{O2-Myo}}{dt} = D * [\\frac {M_{O2-Hb}}{M_{Hb}} - \\frac {M_{O2-Myo}}{M_{Myo}}] - f_o $ $$ $$"
      ],
      "text/plain": [
       "<IPython.core.display.Latex object>"
      ]
     },
     "metadata": {},
     "output_type": "display_data"
    }
   ],
   "source": [
    "%%latex\n",
    "Oxygen concentration in Myoglobin is $O_{Myo} = \\frac {M_{O2-Myo}}{M_{Myo}}$ $$ $$\n",
    "Oxygen concentration in hemoglobin is $O_{Hb} = \\frac {M_{O2-Hb}}{M_{Hb}}$ $$ $$\n",
    "Flux of Oxygen from Hemoglobin to Myoglobin is $f_i = D * [O_{Hb} - O_{Myo}]$ $$ $$\n",
    "Where, D is a conductance equivalent for fluid dynamics and is equal to $ D = \\frac {k}{\\mu}$ \n",
    "where k = permeability and $\\mu = viscocity $ $$ $$\n",
    "$\\frac{dM_{O2-Myo}}{dt} = D * [\\frac {M_{O2-Hb}}{M_{Hb}} - \\frac {M_{O2-Myo}}{M_{Myo}}] - f_o $ $$ $$"
   ]
  },
  {
   "cell_type": "markdown",
   "metadata": {},
   "source": [
    "### Following is the code I have written in Python. \n",
    "I am trying to use hypothetical values of the parameters such as oxygen concentrations in hemoglobin and myoglobin to see what waveforms I get. However, I think that the model may not be adequately defined. We are not using any parameters other than oxygen concentrations in hemoglobin (measured by the pulse oximeter) and in myoglobin (measured by the BSX sensor). \n",
    "\n",
    "Is there a way we can use the **heart rate** data and **speed** (or power) in our model? I understand that heart rate and speed are both reflected in the **SmO2** reading."
   ]
  },
  {
   "cell_type": "code",
   "execution_count": 154,
   "metadata": {
    "collapsed": false
   },
   "outputs": [
    {
     "name": "stdout",
     "output_type": "stream",
     "text": [
      "Total cells that had NaNs were 0 out of  129600 elements.\n"
     ]
    },
    {
     "data": {
      "image/png": "[encoded data removed]",
      "text/plain": [
       "<matplotlib.figure.Figure at 0x121240950>"
      ]
     },
     "metadata": {},
     "output_type": "display_data"
    },
    {
     "data": {
      "image/png": "[encoded data removed]",
      "text/plain": [
       "<matplotlib.figure.Figure at 0x1181c6350>"
      ]
     },
     "metadata": {},
     "output_type": "display_data"
    }
   ],
   "source": [
    "%matplotlib inline\n",
    "import scipy.integrate as integrate\n",
    "import matplotlib.pyplot as plt\n",
    "import numpy as np\n",
    "from __future__ import division\n",
    "import random\n",
    "\n",
    "pi = np.pi\n",
    "sqrt = np.sqrt\n",
    "cos = np.cos\n",
    "sin = np.sin\n",
    "# Following parameters will be used to create sinusoidal-like signals as hypothetical signals for input parameters.\n",
    "samp_f = 100\n",
    "freq = 72\n",
    "t = np.linspace(0,120,freq*5)\n",
    "wt = 2*pi*freq*t #np.linspace(0,1,samp_f)\n",
    "\n",
    "#Following function removes sets the negatives values of any given signal to zero.\n",
    "def signal_clipper (signal):\n",
    "    for i in range(len(signal)):\n",
    "        if (signal[i]<=0):\n",
    "            signal[i] = 0\n",
    "        else:\n",
    "            signal[i] = signal[i]\n",
    "    return signal\n",
    "\n",
    "M_Hb= 10  # mg/dl - an arbitrary value \n",
    "M_O2Hb= signal_clipper(random.random()*sin(wt)) # random signal\n",
    "M_Myo = 2 # mg/dl - an arbitrary value\n",
    "M_O2Myo = signal_clipper(random.random()*cos(wt)) # random signal\n",
    "D = 4 #signal_clipper(random.random()*cos(wt)) # random signal\n",
    "fo = 1 # A random constant value for out-flux.\n",
    "\n",
    "# Following is the actual differential equation.\n",
    "def o2transport (M_O2Myo,t):\n",
    "    dmo2dt = -D*(M_O2Myo/M_Myo) + D*(M_O2Hb/M_Hb) - fo\n",
    "    return dmo2dt\n",
    "\n",
    "zinit = [0.9]*len(M_O2Hb) # Initial condition.\n",
    "z = integrate.odeint(o2transport,zinit,t)  # Actual ODE Solver\n",
    "print \"Number of cells that had NaNs were\", np.isnan(z).sum(),\"out of \",z.size,\"elements.\"  \n",
    "z = np.nan_to_num(z)\n",
    "\n",
    "# Plot containing subplots showing the input signals such as values of M_O2Myo, M_Myo, M_O2Hb, and M_Hb.\n",
    "plt.figure()\n",
    "\n",
    "plt.subplot (211)\n",
    "plt.plot (M_O2Hb[50:100])\n",
    "plt.subplot (212)\n",
    "plt.plot (M_O2Myo[50:100])\n",
    "\n",
    "# Plot of a small portion of the output signal M_O2-Myo. This should look like the waveform\n",
    "# we get from the BSX sensor. \n",
    "plt.figure()  \n",
    "for i in range (0,freq,1):\n",
    "    plt.plot(z[i,50:100])\n",
    "\n",
    "# plt.figure()\n",
    "# plt.plot (t,z[20])\n",
    "\n"
   ]
  },
  {
   "cell_type": "code",
   "execution_count": null,
   "metadata": {
    "collapsed": true
   },
   "outputs": [],
   "source": []
  }
 ],
 "metadata": {
  "kernelspec": {
   "display_name": "Python [Root]",
   "language": "python",
   "name": "Python [Root]"
  },
  "language_info": {
   "codemirror_mode": {
    "name": "ipython",
    "version": 2
   },
   "file_extension": ".py",
   "mimetype": "text/x-python",
   "name": "python",
   "nbconvert_exporter": "python",
   "pygments_lexer": "ipython2",
   "version": "2.7.12"
  },
  "nbpresent": {
   "slides": {
    "2092a5ed-8f58-45ca-878b-6e5f3edfc3f0": {
     "id": "2092a5ed-8f58-45ca-878b-6e5f3edfc3f0",
     "prev": "7f0e6bc6-788e-4c94-9f32-df84bcb712fe",
     "regions": {
      "6b1e556f-0113-47d4-a254-e7600098994c": {
       "attrs": {
        "height": 0.8,
        "width": 0.8,
        "x": 0.1,
        "y": 0.1
       },
       "content": {
        "cell": "9ed6b2df-ba9a-4835-802c-f3b5c01beeb0",
        "part": "whole"
       },
       "id": "6b1e556f-0113-47d4-a254-e7600098994c"
      }
     }
    },
    "45f2a203-80a1-4e92-836b-54e3cd225a5f": {
     "id": "45f2a203-80a1-4e92-836b-54e3cd225a5f",
     "prev": "c27b7ac6-a683-4539-b3f1-efbe9c1c89ec",
     "regions": {
      "f333325c-9409-4424-96bb-10bdc2e05924": {
       "attrs": {
        "height": 0.8,
        "width": 0.8,
        "x": 0.1,
        "y": 0.1
       },
       "content": {
        "cell": "b895fe83-b0b5-493e-8010-0b4bf2c23c2c",
        "part": "whole"
       },
       "id": "f333325c-9409-4424-96bb-10bdc2e05924"
      }
     }
    },
    "7f0e6bc6-788e-4c94-9f32-df84bcb712fe": {
     "id": "7f0e6bc6-788e-4c94-9f32-df84bcb712fe",
     "prev": "f3103da9-9ab3-42b5-87ab-10604325febe",
     "regions": {
      "afcd1a69-ecbe-4b94-8dda-49e0a3ed30b0": {
       "attrs": {
        "height": 0.8,
        "width": 0.8,
        "x": 0.1,
        "y": 0.1
       },
       "content": {
        "cell": "3d246514-b977-4882-82f5-a9deba12067f",
        "part": "whole"
       },
       "id": "afcd1a69-ecbe-4b94-8dda-49e0a3ed30b0"
      }
     }
    },
    "c27b7ac6-a683-4539-b3f1-efbe9c1c89ec": {
     "id": "c27b7ac6-a683-4539-b3f1-efbe9c1c89ec",
     "prev": null,
     "regions": {
      "39e1fe10-7750-42ba-8533-cc7f699af93f": {
       "attrs": {
        "height": 0.8,
        "width": 0.8,
        "x": 0.1,
        "y": 0.1
       },
       "content": {
        "cell": "def5e723-88b5-4586-bccf-3df5e29dba79",
        "part": "whole"
       },
       "id": "39e1fe10-7750-42ba-8533-cc7f699af93f"
      }
     }
    },
    "f3103da9-9ab3-42b5-87ab-10604325febe": {
     "id": "f3103da9-9ab3-42b5-87ab-10604325febe",
     "prev": "45f2a203-80a1-4e92-836b-54e3cd225a5f",
     "regions": {
      "083f7c4d-05e0-4a25-8efc-9419b18c1d23": {
       "attrs": {
        "height": 0.8,
        "width": 0.8,
        "x": 0.1,
        "y": 0.1
       },
       "content": {
        "cell": "48140524-8b2e-44fd-868c-1382621f7c28",
        "part": "whole"
       },
       "id": "083f7c4d-05e0-4a25-8efc-9419b18c1d23"
      }
     }
    }
   },
   "themes": {}
  }
 },
 "nbformat": 4,
 "nbformat_minor": 0
}
